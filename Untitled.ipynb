{
 "cells": [
  {
   "cell_type": "code",
   "execution_count": 2,
   "metadata": {
    "collapsed": true
   },
   "outputs": [],
   "source": [
    "import pandas as pd\n",
    "import numpy as np"
   ]
  },
  {
   "cell_type": "code",
   "execution_count": 61,
   "metadata": {},
   "outputs": [],
   "source": [
    "mdl1 = pd.read_csv('skfold_dropuseless_newfeats0.2839664.csv')\n",
    "mdl2 = pd.read_csv('skfold_dropuseless_newfeats0.280180598301.csv')\n",
    "mdl3 = pd.read_csv('skfold_lightgbm0.2823656.csv')\n",
    "mdl4 = pd.read_csv('skfold_lightgbm.csv')\n",
    "mdl5 = pd.read_csv('skfold_dropuseless_newfeats.csv')\n",
    "mdl6 = pd.read_csv('skfold_newfeats.csv')\n",
    "mdl7 = pd.read_csv('skfold_dropuseless.csv')\n",
    "mdl8 = pd.read_csv('StratifiedKFold_v6_2-one-hot (1).csv')"
   ]
  },
  {
   "cell_type": "code",
   "execution_count": 62,
   "metadata": {
    "collapsed": true
   },
   "outputs": [],
   "source": [
    "targets = ( mdl1['target'] + mdl2['target'] + mdl3['target'] + \n",
    "           mdl4['target'] + mdl5['target'] + mdl6['target'] + \n",
    "           mdl7['target'] + mdl8['target']) / 8"
   ]
  },
  {
   "cell_type": "code",
   "execution_count": 63,
   "metadata": {
    "collapsed": true
   },
   "outputs": [],
   "source": [
    "mdl1['target'] = targets"
   ]
  },
  {
   "cell_type": "code",
   "execution_count": 64,
   "metadata": {
    "collapsed": true
   },
   "outputs": [],
   "source": [
    "mdl1.to_csv('ensemble_easy_v1_2.csv', index = False)"
   ]
  },
  {
   "cell_type": "code",
   "execution_count": 65,
   "metadata": {},
   "outputs": [
    {
     "data": {
      "text/plain": [
       "0.26348351933597841"
      ]
     },
     "execution_count": 65,
     "metadata": {},
     "output_type": "execute_result"
    }
   ],
   "source": [
    "def calcginiindex(array):\n",
    "    array = array.flatten()\n",
    "    array += 0.0000001\n",
    "    array = np.sort(array)\n",
    "    index = np.arange(1,array.shape[0]+1)\n",
    "    n = array.shape[0]\n",
    "    return ((np.sum((2*index - n - 1)*array))/(n * np.sum(array)))\n",
    "\n",
    "calcginiindex(targets.values)"
   ]
  },
  {
   "cell_type": "code",
   "execution_count": 8,
   "metadata": {},
   "outputs": [
    {
     "data": {
      "text/plain": [
       "0.2689"
      ]
     },
     "execution_count": 8,
     "metadata": {},
     "output_type": "execute_result"
    }
   ],
   "source": [
    "0.2689"
   ]
  },
  {
   "cell_type": "code",
   "execution_count": 9,
   "metadata": {},
   "outputs": [
    {
     "data": {
      "text/plain": [
       "0.26471195465092434"
      ]
     },
     "execution_count": 9,
     "metadata": {},
     "output_type": "execute_result"
    }
   ],
   "source": [
    "mdl1 = pd.read_csv('ensemble_easy_v1.csv')\n",
    "mdl2 = pd.read_csv('ensemble_easy_v2.csv')\n",
    "\n",
    "\n",
    "targets = (mdl1['target'] + mdl2['target']) / 2\n",
    "\n",
    "mdl1['target'] = targets\n",
    "\n",
    "mdl1.to_csv('ensemble_easy_vpewpew.csv', index = False)\n",
    "\n",
    "calcginiindex(targets.values)"
   ]
  },
  {
   "cell_type": "code",
   "execution_count": 11,
   "metadata": {},
   "outputs": [
    {
     "data": {
      "text/plain": [
       "0.26471195465092318"
      ]
     },
     "execution_count": 11,
     "metadata": {},
     "output_type": "execute_result"
    }
   ],
   "source": [
    "calcginiindex(pd.read_csv('ensemble_easy_vpewpew.csv').target.values)"
   ]
  },
  {
   "cell_type": "code",
   "execution_count": null,
   "metadata": {
    "collapsed": true
   },
   "outputs": [],
   "source": []
  }
 ],
 "metadata": {
  "kernelspec": {
   "display_name": "Python 2",
   "language": "python",
   "name": "python2"
  },
  "language_info": {
   "codemirror_mode": {
    "name": "ipython",
    "version": 2
   },
   "file_extension": ".py",
   "mimetype": "text/x-python",
   "name": "python",
   "nbconvert_exporter": "python",
   "pygments_lexer": "ipython2",
   "version": "2.7.13"
  }
 },
 "nbformat": 4,
 "nbformat_minor": 2
}
