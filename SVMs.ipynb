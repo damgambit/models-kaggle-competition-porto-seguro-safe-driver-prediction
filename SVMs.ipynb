{
 "cells": [
  {
   "cell_type": "code",
   "execution_count": 59,
   "metadata": {},
   "outputs": [
    {
     "data": {
      "text/html": [
       "<script>requirejs.config({paths: { 'plotly': ['https://cdn.plot.ly/plotly-latest.min']},});if(!window.Plotly) {{require(['plotly'],function(plotly) {window.Plotly=plotly;});}}</script>"
      ],
      "text/vnd.plotly.v1+html": [
       "<script>requirejs.config({paths: { 'plotly': ['https://cdn.plot.ly/plotly-latest.min']},});if(!window.Plotly) {{require(['plotly'],function(plotly) {window.Plotly=plotly;});}}</script>"
      ]
     },
     "metadata": {},
     "output_type": "display_data"
    }
   ],
   "source": [
    "# Load in our libraries\n",
    "import pandas as pd\n",
    "import numpy as np\n",
    "import re\n",
    "import sklearn\n",
    "import xgboost as xgb\n",
    "import lightgbm as lgb\n",
    "import seaborn as sns\n",
    "import matplotlib.pyplot as plt\n",
    "%matplotlib inline\n",
    "\n",
    "import plotly.offline as py\n",
    "py.init_notebook_mode(connected=True)\n",
    "import plotly.graph_objs as go\n",
    "import plotly.tools as tls\n",
    "\n",
    "import warnings\n",
    "warnings.filterwarnings('ignore')\n",
    "\n",
    "# Going to use these 5 base models for the stacking\n",
    "from sklearn.svm import SVC, LinearSVC\n",
    "from sklearn.linear_model import SGDClassifier\n",
    "from sklearn.model_selection import StratifiedKFold\n",
    "\n",
    "\n",
    "def gini(y, pred):\n",
    "    g = np.asarray(np.c_[y, pred, np.arange(len(y)) ], dtype=np.float)\n",
    "    g = g[np.lexsort((g[:,2], -1*g[:,1]))]\n",
    "    gs = g[:,0].cumsum().sum() / g[:,0].sum()\n",
    "    gs -= (len(y) + 1) / 2.\n",
    "    return gs / len(y)\n",
    "\n",
    "def gini_normalized(estimator,a, p):\n",
    "    \n",
    "    curr = gini(p, estimator.predict_proba(a)) / gini(p, p)\n",
    "    return curr \n",
    "\n",
    "def gini_lgb(preds, dtrain):\n",
    "    y = list(dtrain.get_label())\n",
    "    score = gini(y, preds) / gini(y, y)\n",
    "    return 'gini', score, True\n",
    "\n",
    "def calcginiindex(array):\n",
    "    array = array.flatten()\n",
    "    array += 0.0000001\n",
    "    array = np.sort(array)\n",
    "    index = np.arange(1,array.shape[0]+1)\n",
    "    n = array.shape[0]\n",
    "    return ((np.sum((2*index - n - 1)*array))/(n * np.sum(array)))\n",
    "\n",
    "def gini_xgb(preds, dtrain):\n",
    "    labels = dtrain.get_label()\n",
    "    gini_score = gini_normalized(labels, preds)\n",
    "    return 'gini', gini_score"
   ]
  },
  {
   "cell_type": "markdown",
   "metadata": {},
   "source": [
    "# Data"
   ]
  },
  {
   "cell_type": "code",
   "execution_count": 2,
   "metadata": {
    "collapsed": true
   },
   "outputs": [],
   "source": [
    "train = pd.read_csv('train.csv')\n",
    "test = pd.read_csv('test.csv')\n",
    "\n",
    "features = train.drop(['target', 'id'], axis = 1)\n",
    "targets = train.target.values\n",
    "\n",
    "unwanted = train.columns[train.columns.str.startswith('ps_calc_')]\n",
    "\n",
    "train = train.drop(unwanted, axis = 1)\n",
    "test = test.drop(unwanted, axis = 1)"
   ]
  },
  {
   "cell_type": "markdown",
   "metadata": {},
   "source": [
    "# Ensembling and stacking models\n",
    "### SklearnHelper For RF, ET, AD, GB"
   ]
  },
  {
   "cell_type": "code",
   "execution_count": 4,
   "metadata": {},
   "outputs": [],
   "source": [
    "# Some useful parameters which will come in handy later on\n",
    "ntrain = train.shape[0]\n",
    "ntest = test.shape[0]\n",
    "SEED = 42 # for reproducibility\n",
    "\n",
    "# Class to extend the Sklearn classifier\n",
    "class SklearnHelper(object):\n",
    "    def __init__(self, clf, seed=0, params=None):\n",
    "        params['random_state'] = seed\n",
    "        self.clf = clf(**params)\n",
    "\n",
    "    def train(self, x_train, y_train):\n",
    "        self.clf.fit(x_train, y_train)\n",
    "\n",
    "    def predict_proba(self, x):\n",
    "        return self.clf.predict_proba(x)\n",
    "    \n",
    "    def fit(self,x,y):\n",
    "        return self.clf.fit(x,y)\n",
    "    \n",
    "    def feature_importances(self,x,y):\n",
    "        print(self.clf.fit(x,y).feature_importances_)\n",
    "    \n",
    "# Class to extend XGboost classifer"
   ]
  },
  {
   "cell_type": "markdown",
   "metadata": {},
   "source": [
    "### Get predictions/new features from SklearnHelper"
   ]
  },
  {
   "cell_type": "code",
   "execution_count": 5,
   "metadata": {
    "collapsed": true
   },
   "outputs": [],
   "source": [
    "kfold = 5\n",
    "skf = StratifiedKFold(n_splits=kfold, random_state=42)\n",
    "\n",
    "def get_oof(clf, x_train, y_train, x_test):\n",
    "    oof_train = np.zeros((ntrain,))\n",
    "    oof_test = np.zeros((ntest,))\n",
    "    oof_test_skf = np.empty((kfold, ntest))\n",
    "\n",
    "    \n",
    "    for i, (train_index, test_index) in enumerate(skf.split(x_train, y_train)):\n",
    "        x_tr = x_train[train_index]\n",
    "        y_tr = y_train[train_index]\n",
    "        x_te = x_train[test_index]\n",
    "        y_te = y_train[test_index]\n",
    "        \n",
    "        clf.train(x_tr, y_tr)\n",
    "\n",
    "        oof_train[test_index] = clf.predict_proba(x_te)[:, 1]\n",
    "        train_pred = clf.predict_proba(x_tr)[:, 1]\n",
    "        oof_test_skf[i, :] = clf.predict_proba(x_test)[:, 1]\n",
    "        print(\"Fold :\", i,\"Train Gini:\", gini_normalized(train_pred, y_tr) ,\"Valid Gini:\", gini_normalized(oof_train[test_index], y_te))\n",
    "        \n",
    "\n",
    "    oof_test[:] = oof_test_skf.mean(axis=0)\n",
    "    return oof_train.reshape(-1, 1), oof_test.reshape(-1, 1)"
   ]
  },
  {
   "cell_type": "markdown",
   "metadata": {},
   "source": [
    "# Data prep"
   ]
  },
  {
   "cell_type": "code",
   "execution_count": 6,
   "metadata": {},
   "outputs": [],
   "source": [
    "X = train.drop(['id', 'target'], axis = 1).values\n",
    "y = train.target.values\n",
    "\n",
    "test_id = test.id.values\n",
    "test = test.drop('id', axis = 1)"
   ]
  },
  {
   "cell_type": "markdown",
   "metadata": {},
   "source": [
    "# SGDClassifier"
   ]
  },
  {
   "cell_type": "code",
   "execution_count": 11,
   "metadata": {},
   "outputs": [
    {
     "name": "stdout",
     "output_type": "stream",
     "text": [
      "SGDClassifier\n",
      "('Fold :', 0, 'Train Gini:', 0.02535647019117844, 'Valid Gini:', 0.027761830977935893)\n",
      "('Fold :', 1, 'Train Gini:', 0.024640211690390892, 'Valid Gini:', 0.024727967978524341)\n",
      "('Fold :', 2, 'Train Gini:', 0.025038032253114323, 'Valid Gini:', 0.026111183852913156)\n",
      "('Fold :', 3, 'Train Gini:', 0.027774535345091451, 'Valid Gini:', 0.025509442211765061)\n",
      "('Fold :', 4, 'Train Gini:', 0.024716977178029786, 'Valid Gini:', 0.028781472736354653)\n",
      "('New best gini:', 0.18478334553747211)\n"
     ]
    }
   ],
   "source": [
    "best_gini = 0\n",
    "sgd_params = {\n",
    "    'loss': 'log',\n",
    "    'penalty': 'l2',\n",
    "    'alpha': 0.01,\n",
    "    #'max_iter': 10,\n",
    "    'n_jobs': 6,\n",
    "   # 'learning_rate': 'invscaling'.\n",
    "    'eta0': 0.025,\n",
    "   # 'power_t': 0.998\n",
    "}\n",
    "sgd = SklearnHelper(clf=SGDClassifier, seed=SEED, params=sgd_params)\n",
    "\n",
    "print('SGDClassifier')\n",
    "sgd_oof_train, sgd_oof_test = get_oof(sgd,X, y, test) # Random Forest\n",
    "curr_gini = calcginiindex(sgd_oof_test)\n",
    "if curr_gini > best_gini:\n",
    "    print('New best gini:', curr_gini)\n",
    "    best_gini = curr_gini\n",
    "    best_params = pd.DataFrame(sgd_params, index=[1])\n",
    "else:\n",
    "    print('Curr gini:', curr_gini)"
   ]
  },
  {
   "cell_type": "code",
   "execution_count": null,
   "metadata": {
    "collapsed": true
   },
   "outputs": [],
   "source": []
  },
  {
   "cell_type": "code",
   "execution_count": null,
   "metadata": {
    "collapsed": true
   },
   "outputs": [],
   "source": []
  },
  {
   "cell_type": "code",
   "execution_count": 89,
   "metadata": {},
   "outputs": [
    {
     "name": "stdout",
     "output_type": "stream",
     "text": [
      "Fitting 5 folds for each of 350 candidates, totalling 1750 fits\n"
     ]
    },
    {
     "name": "stderr",
     "output_type": "stream",
     "text": [
      "[Parallel(n_jobs=1)]: Done 1750 out of 1750 | elapsed: 720.1min finished\n"
     ]
    },
    {
     "data": {
      "text/plain": [
       "RandomizedSearchCV(cv=5, error_score='raise',\n",
       "          estimator=SGDClassifier(alpha=0.0001, average=False, class_weight=None, epsilon=0.1,\n",
       "       eta0=0.0, fit_intercept=True, l1_ratio=0.15,\n",
       "       learning_rate='optimal', loss='hinge', n_iter=5, n_jobs=6,\n",
       "       penalty='l2', power_t=0.5, random_state=None, shuffle=True,\n",
       "       verbose=0, warm_start=False),\n",
       "          fit_params={}, iid=True, n_iter=350, n_jobs=1,\n",
       "          param_distributions={'penalty': ['l2'], 'loss': ['modified_huber'], 'n_jobs': [6], 'eta0': [0.025, 0.02, 0.1, 0.25, 0.5, 0.01], 'n_iter': [10, 50, 100, 250, 500], 'alpha': [0.0006, 0.0001, 0.001, 0.01, 0.1, 1, 10], 'learning_rate': ['invscaling', 'constant', 'optimal'], 'epsilon': [0.1, 0.3, 0.5, 0.01, 0.05, 0.001, 0.005], 'power_t': [0.1, 0.5, 0.65, 0.95, 0.998]},\n",
       "          pre_dispatch='2*n_jobs', random_state=None, refit=True,\n",
       "          return_train_score=True,\n",
       "          scoring=<function gini_normalized at 0x000000001D758BA8>,\n",
       "          verbose=1)"
      ]
     },
     "execution_count": 89,
     "metadata": {},
     "output_type": "execute_result"
    }
   ],
   "source": [
    "from sklearn.model_selection import RandomizedSearchCV\n",
    "\n",
    "sgd_params = {\n",
    "    'loss': ['modified_huber'], # optimized\n",
    "    'penalty': ['l2'], # optimized\n",
    "    'alpha': [0.0006, 0.0001, 0.001, 0.01, 0.1, 1, 10], # optimized\n",
    "    'n_iter': [10, 50, 100, 250, 500],\n",
    "    'n_jobs': [6],\n",
    "    'learning_rate': ['invscaling', 'constant', 'optimal'],\n",
    "    'eta0': [0.025, 0.020, 0.1, 0.25, 0.5, 0.01],\n",
    "    'power_t': [0.1, 0.5, 0.65, 0.95, 0.998],\n",
    "    'epsilon': [0.1, 0.3, 0.5, 0.01, 0.05, 0.001, 0.005]\n",
    "}\n",
    "\n",
    "\n",
    "rand_search = RandomizedSearchCV(SGDClassifier(n_jobs=6), param_distributions=sgd_params, \n",
    "                                 scoring=gini_normalized, cv = 5, n_iter = 350, verbose = 1)\n",
    "\n",
    "rand_search.fit(X, y)"
   ]
  },
  {
   "cell_type": "code",
   "execution_count": 90,
   "metadata": {},
   "outputs": [
    {
     "data": {
      "text/plain": [
       "{'alpha': 0.0001,\n",
       " 'epsilon': 0.3,\n",
       " 'eta0': 0.02,\n",
       " 'learning_rate': 'invscaling',\n",
       " 'loss': 'modified_huber',\n",
       " 'n_iter': 500,\n",
       " 'n_jobs': 6,\n",
       " 'penalty': 'l2',\n",
       " 'power_t': 0.998}"
      ]
     },
     "execution_count": 90,
     "metadata": {},
     "output_type": "execute_result"
    }
   ],
   "source": [
    "rand_search.best_params_"
   ]
  },
  {
   "cell_type": "code",
   "execution_count": 91,
   "metadata": {},
   "outputs": [
    {
     "data": {
      "text/plain": [
       "0.99097520587585752"
      ]
     },
     "execution_count": 91,
     "metadata": {},
     "output_type": "execute_result"
    }
   ],
   "source": [
    "calcginiindex(rand_search.predict_proba(test)[:,1])"
   ]
  },
  {
   "cell_type": "code",
   "execution_count": 92,
   "metadata": {},
   "outputs": [
    {
     "data": {
      "text/plain": [
       "0.023455037851286546"
      ]
     },
     "execution_count": 92,
     "metadata": {},
     "output_type": "execute_result"
    }
   ],
   "source": [
    "rand_search.best_score_"
   ]
  },
  {
   "cell_type": "code",
   "execution_count": null,
   "metadata": {
    "collapsed": true
   },
   "outputs": [],
   "source": []
  },
  {
   "cell_type": "code",
   "execution_count": null,
   "metadata": {
    "collapsed": true
   },
   "outputs": [],
   "source": []
  }
 ],
 "metadata": {
  "kernelspec": {
   "display_name": "Python 2",
   "language": "python",
   "name": "python2"
  },
  "language_info": {
   "codemirror_mode": {
    "name": "ipython",
    "version": 2
   },
   "file_extension": ".py",
   "mimetype": "text/x-python",
   "name": "python",
   "nbconvert_exporter": "python",
   "pygments_lexer": "ipython2",
   "version": "2.7.13"
  }
 },
 "nbformat": 4,
 "nbformat_minor": 2
}
