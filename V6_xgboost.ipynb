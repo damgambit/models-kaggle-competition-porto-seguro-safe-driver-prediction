{
 "cells": [
  {
   "cell_type": "markdown",
   "metadata": {},
   "source": [
    "# Imports"
   ]
  },
  {
   "cell_type": "code",
   "execution_count": 1,
   "metadata": {},
   "outputs": [
    {
     "name": "stderr",
     "output_type": "stream",
     "text": [
      "C:\\Users\\Damygame\\Anaconda2\\lib\\site-packages\\sklearn\\cross_validation.py:44: DeprecationWarning: This module was deprecated in version 0.18 in favor of the model_selection module into which all the refactored classes and functions are moved. Also note that the interface of the new CV iterators are different from that of this module. This module will be removed in 0.20.\n",
      "  \"This module will be removed in 0.20.\", DeprecationWarning)\n"
     ]
    }
   ],
   "source": [
    "import numpy as np\n",
    "import pandas as pd\n",
    "import matplotlib.pyplot as plt\n",
    "%matplotlib inline\n",
    "\n",
    "from sklearn.model_selection import StratifiedKFold\n",
    "import xgboost as xgb"
   ]
  },
  {
   "cell_type": "markdown",
   "metadata": {},
   "source": [
    "# Load Data"
   ]
  },
  {
   "cell_type": "code",
   "execution_count": 2,
   "metadata": {
    "collapsed": true
   },
   "outputs": [],
   "source": [
    "train = pd.read_csv('train.csv')\n",
    "test = pd.read_csv('test.csv')"
   ]
  },
  {
   "cell_type": "code",
   "execution_count": 3,
   "metadata": {
    "collapsed": true
   },
   "outputs": [],
   "source": [
    "features = train.drop(['target', 'id'], axis = 1)\n",
    "targets = train.target.values"
   ]
  },
  {
   "cell_type": "markdown",
   "metadata": {},
   "source": [
    "# Define Gini's functions"
   ]
  },
  {
   "cell_type": "code",
   "execution_count": 4,
   "metadata": {
    "collapsed": true
   },
   "outputs": [],
   "source": [
    "# Define the gini metric - from https://www.kaggle.com/c/ClaimPredictionChallenge/discussion/703#5897\n",
    "def gini(actual, pred, cmpcol = 0, sortcol = 1):\n",
    "    assert( len(actual) == len(pred) )\n",
    "    all = np.asarray(np.c_[ actual, pred, np.arange(len(actual)) ], dtype=np.float)\n",
    "    all = all[ np.lexsort((all[:,2], -1*all[:,1])) ]\n",
    "    totalLosses = all[:,0].sum()\n",
    "    giniSum = all[:,0].cumsum().sum() / totalLosses\n",
    "    \n",
    "    giniSum -= (len(actual) + 1) / 2.\n",
    "    return giniSum / len(actual)\n",
    " \n",
    "def gini_normalized(a, p):\n",
    "    return gini(a, p) / gini(a, a)\n",
    "\n",
    "def gini_xgb(preds, dtrain):\n",
    "    labels = dtrain.get_label()\n",
    "    gini_score = gini_normalized(labels, preds)\n",
    "    return 'gini', gini_score\n",
    "\n",
    "def calcginiindex(array):\n",
    "    array = array.flatten()\n",
    "    array += 0.0000001\n",
    "    array = np.sort(array)\n",
    "    index = np.arange(1,array.shape[0]+1)\n",
    "    n = array.shape[0]\n",
    "    return ((np.sum((2*index - n - 1)*array))/(n * np.sum(array)))"
   ]
  },
  {
   "cell_type": "markdown",
   "metadata": {},
   "source": [
    "# Feature Engineering"
   ]
  },
  {
   "cell_type": "code",
   "execution_count": 5,
   "metadata": {
    "collapsed": true
   },
   "outputs": [],
   "source": [
    "unwanted = train.columns[train.columns.str.startswith('ps_calc_')]\n",
    "\n",
    "train = train.drop(unwanted, axis = 1)\n",
    "test = test.drop(unwanted, axis = 1)"
   ]
  },
  {
   "cell_type": "code",
   "execution_count": 6,
   "metadata": {
    "collapsed": true
   },
   "outputs": [],
   "source": [
    "def sum_nan(row):\n",
    "    return np.sum(np.where(row == -1, 1, 0))\n",
    "\n",
    "train['sum_nan'] = train.apply(sum_nan, axis = 1)\n",
    "train['high_nan'] = train['sum_nan'].apply(lambda x: 1 if x > 4 else 0)\n",
    "train['ps_car_13_ps_reg_03'] = train['ps_car_13'] * train['ps_reg_03']\n",
    "train['ps_reg_mult'] = train['ps_reg_01'] * train['ps_reg_02'] * train['ps_reg_03']\n",
    "train['ps_bin_sum'] = train['ps_ind_06_bin'] + train['ps_ind_07_bin'] + train['ps_ind_08_bin'] + \\\n",
    "        train['ps_ind_09_bin'] + train['ps_ind_10_bin'] + train['ps_ind_11_bin'] + \\\n",
    "        train['ps_ind_12_bin'] + train['ps_ind_13_bin'] + train['ps_ind_16_bin'] + \\\n",
    "        train['ps_ind_17_bin'] + train['ps_ind_18_bin']\n",
    "        \n",
    "test['sum_nan'] = test.apply(sum_nan, axis = 1)\n",
    "test['high_nan'] = test['sum_nan'].apply(lambda x: 1 if x > 4 else 0)\n",
    "test['ps_car_13_ps_reg_03'] = test['ps_car_13'] * test['ps_reg_03']\n",
    "test['ps_reg_mult'] = test['ps_reg_01'] * test['ps_reg_02'] * test['ps_reg_03']\n",
    "test['ps_bin_sum'] = test['ps_ind_06_bin'] + test['ps_ind_07_bin'] + test['ps_ind_08_bin'] + \\\n",
    "        test['ps_ind_09_bin'] + test['ps_ind_10_bin'] + test['ps_ind_11_bin'] + \\\n",
    "        test['ps_ind_12_bin'] + test['ps_ind_13_bin'] + test['ps_ind_16_bin'] + \\\n",
    "        test['ps_ind_17_bin'] + test['ps_ind_18_bin']"
   ]
  },
  {
   "cell_type": "code",
   "execution_count": null,
   "metadata": {
    "collapsed": true
   },
   "outputs": [],
   "source": []
  },
  {
   "cell_type": "code",
   "execution_count": null,
   "metadata": {
    "collapsed": true
   },
   "outputs": [],
   "source": []
  },
  {
   "cell_type": "markdown",
   "metadata": {},
   "source": [
    "# Data preparation"
   ]
  },
  {
   "cell_type": "code",
   "execution_count": 6,
   "metadata": {
    "collapsed": true
   },
   "outputs": [],
   "source": [
    "X = train.drop(['id', 'target'], axis = 1).values\n",
    "y = train.target.values\n",
    "\n",
    "test_id = test.id.values\n",
    "test = test.drop('id', axis = 1)"
   ]
  },
  {
   "cell_type": "code",
   "execution_count": 7,
   "metadata": {
    "collapsed": true
   },
   "outputs": [],
   "source": [
    "sub = pd.DataFrame()\n",
    "sub['id'] = test_id\n",
    "sub['target'] = np.zeros_like(test_id)"
   ]
  },
  {
   "cell_type": "markdown",
   "metadata": {},
   "source": [
    "# Stratified KFold and XGBoost params"
   ]
  },
  {
   "cell_type": "code",
   "execution_count": 15,
   "metadata": {
    "collapsed": true
   },
   "outputs": [],
   "source": [
    "kfold = 5\n",
    "skf = StratifiedKFold(n_splits=kfold, random_state=42)\n",
    "\n",
    "params = {\n",
    "    'min_child_weight': 10.0,\n",
    "    'objective': 'binary:logistic',\n",
    "    'max_depth': 10,\n",
    "    'max_delta_step': 0.8,\n",
    "    'colsample_bytree': 0.4,\n",
    "    'subsample': 0.8,\n",
    "    'eta': 0.025,\n",
    "    'gamma': 0.65,\n",
    "    'num_boost_round' : 700\n",
    "    }"
   ]
  },
  {
   "cell_type": "markdown",
   "metadata": {},
   "source": [
    "# Train the model"
   ]
  },
  {
   "cell_type": "code",
   "execution_count": 16,
   "metadata": {},
   "outputs": [
    {
     "name": "stdout",
     "output_type": "stream",
     "text": [
      "[Fold 1/5]\n",
      "[0]\ttrain-gini:0.00189\tvalid-gini:0.01097\n",
      "Multiple eval metrics have been passed: 'valid-gini' will be used for early stopping.\n",
      "\n",
      "Will train until valid-gini hasn't improved in 130 rounds.\n",
      "[250]\ttrain-gini:0.462512\tvalid-gini:0.270352\n",
      "[500]\ttrain-gini:0.546122\tvalid-gini:0.274664\n",
      "[750]\ttrain-gini:0.581162\tvalid-gini:0.275284\n",
      "Stopping. Best iteration:\n",
      "[637]\ttrain-gini:0.567838\tvalid-gini:0.275419\n",
      "\n",
      "[Fold 1/5 Prediciton:]\n",
      "[Fold 2/5]\n",
      "[0]\ttrain-gini:0.001594\tvalid-gini:0.015707\n",
      "Multiple eval metrics have been passed: 'valid-gini' will be used for early stopping.\n",
      "\n",
      "Will train until valid-gini hasn't improved in 130 rounds.\n",
      "[250]\ttrain-gini:0.456786\tvalid-gini:0.274615\n",
      "[500]\ttrain-gini:0.541751\tvalid-gini:0.283788\n",
      "Stopping. Best iteration:\n",
      "[615]\ttrain-gini:0.561786\tvalid-gini:0.284523\n",
      "\n",
      "[Fold 2/5 Prediciton:]\n",
      "[Fold 3/5]\n",
      "[0]\ttrain-gini:0.002708\tvalid-gini:-0.0019\n",
      "Multiple eval metrics have been passed: 'valid-gini' will be used for early stopping.\n",
      "\n",
      "Will train until valid-gini hasn't improved in 130 rounds.\n",
      "[250]\ttrain-gini:0.461549\tvalid-gini:0.277473\n",
      "[500]\ttrain-gini:0.546399\tvalid-gini:0.28093\n",
      "[750]\ttrain-gini:0.585142\tvalid-gini:0.280859\n",
      "Stopping. Best iteration:\n",
      "[636]\ttrain-gini:0.571001\tvalid-gini:0.281616\n",
      "\n",
      "[Fold 3/5 Prediciton:]\n",
      "[Fold 4/5]\n",
      "[0]\ttrain-gini:0.001091\tvalid-gini:-0.003122\n",
      "Multiple eval metrics have been passed: 'valid-gini' will be used for early stopping.\n",
      "\n",
      "Will train until valid-gini hasn't improved in 130 rounds.\n",
      "[250]\ttrain-gini:0.461828\tvalid-gini:0.27928\n",
      "[500]\ttrain-gini:0.546477\tvalid-gini:0.28559\n",
      "[750]\ttrain-gini:0.581868\tvalid-gini:0.286729\n",
      "[1000]\ttrain-gini:0.600009\tvalid-gini:0.286817\n",
      "Stopping. Best iteration:\n",
      "[966]\ttrain-gini:0.598125\tvalid-gini:0.286922\n",
      "\n",
      "[Fold 4/5 Prediciton:]\n",
      "[Fold 5/5]\n",
      "[0]\ttrain-gini:0.00115\tvalid-gini:-0.004752\n",
      "Multiple eval metrics have been passed: 'valid-gini' will be used for early stopping.\n",
      "\n",
      "Will train until valid-gini hasn't improved in 130 rounds.\n",
      "[250]\ttrain-gini:0.462165\tvalid-gini:0.269242\n",
      "[500]\ttrain-gini:0.54791\tvalid-gini:0.273485\n",
      "[750]\ttrain-gini:0.584167\tvalid-gini:0.274249\n",
      "Stopping. Best iteration:\n",
      "[741]\ttrain-gini:0.583528\tvalid-gini:0.274293\n",
      "\n",
      "[Fold 5/5 Prediciton:]\n"
     ]
    }
   ],
   "source": [
    "sum_valid_gini = 0\n",
    "\n",
    "for i, (train_index, test_index) in enumerate(skf.split(X, y)):\n",
    "    print('[Fold %d/%d]' % (i + 1, kfold))\n",
    "    X_train, X_valid = X[train_index], X[test_index]\n",
    "    y_train, y_valid = y[train_index], y[test_index]\n",
    "    # Convert our data into XGBoost format\n",
    "    d_train = xgb.DMatrix(X_train, y_train)\n",
    "    d_valid = xgb.DMatrix(X_valid, y_valid)\n",
    "    d_test = xgb.DMatrix(test.values)\n",
    "    watchlist = [(d_train, 'train'), (d_valid, 'valid')]\n",
    "\n",
    "    # Train the model! We pass in a max of 2,000 rounds (with early stopping after 100)\n",
    "    # and the custom metric (maximize=True tells xgb that higher metric is better)\n",
    "    mdl = xgb.train(params, d_train, 4000, watchlist, early_stopping_rounds=130, feval=gini_xgb, maximize=True, verbose_eval=250,\n",
    "                   learning_rates = lambda iter, ed: 0.025 * (0.998 ** iter)\n",
    "                   )\n",
    "\n",
    "    print('[Fold %d/%d Prediciton:]' % (i + 1, kfold))\n",
    "    # Predict on our test data\n",
    "    p_test = mdl.predict(d_test)\n",
    "    p_valid = mdl.predict(d_valid)\n",
    "    sub['target'] += p_test/kfold\n",
    "    sum_valid_gini += gini_normalized(y_valid, p_valid)"
   ]
  },
  {
   "cell_type": "markdown",
   "metadata": {},
   "source": [
    "# Estimated Local Gini"
   ]
  },
  {
   "cell_type": "code",
   "execution_count": 19,
   "metadata": {},
   "outputs": [
    {
     "name": "stdout",
     "output_type": "stream",
     "text": [
      "('EstimatedGini: ', 0.26695455090290388)\n",
      "('Valid gini:', 0.28018059830136871)\n"
     ]
    }
   ],
   "source": [
    "print('EstimatedGini: ', calcginiindex(sub['target'].values))\n",
    "#sum_valid_gini = 0.279847 + 0.288112 + 0.282968 + 0.291635 + 0.27727\n",
    "print('Valid gini:', sum_valid_gini/kfold)"
   ]
  },
  {
   "cell_type": "markdown",
   "metadata": {},
   "source": [
    "# Submition File"
   ]
  },
  {
   "cell_type": "code",
   "execution_count": 20,
   "metadata": {
    "collapsed": true
   },
   "outputs": [],
   "source": [
    "sub.to_csv('skfold_dropuseless_newfeats'+ str(sum_valid_gini/kfold) +'.csv', index = False)"
   ]
  },
  {
   "cell_type": "code",
   "execution_count": null,
   "metadata": {
    "collapsed": true
   },
   "outputs": [],
   "source": []
  },
  {
   "cell_type": "code",
   "execution_count": null,
   "metadata": {
    "collapsed": true
   },
   "outputs": [],
   "source": []
  },
  {
   "cell_type": "code",
   "execution_count": null,
   "metadata": {
    "collapsed": true
   },
   "outputs": [],
   "source": []
  }
 ],
 "metadata": {
  "kernelspec": {
   "display_name": "Python 2",
   "language": "python",
   "name": "python2"
  },
  "language_info": {
   "codemirror_mode": {
    "name": "ipython",
    "version": 2
   },
   "file_extension": ".py",
   "mimetype": "text/x-python",
   "name": "python",
   "nbconvert_exporter": "python",
   "pygments_lexer": "ipython2",
   "version": "2.7.13"
  }
 },
 "nbformat": 4,
 "nbformat_minor": 2
}
