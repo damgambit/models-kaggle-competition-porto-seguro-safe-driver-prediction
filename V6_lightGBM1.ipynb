{
 "cells": [
  {
   "cell_type": "markdown",
   "metadata": {},
   "source": [
    "# Imports"
   ]
  },
  {
   "cell_type": "code",
   "execution_count": 1,
   "metadata": {
    "collapsed": true
   },
   "outputs": [],
   "source": [
    "import numpy as np\n",
    "import pandas as pd\n",
    "import matplotlib.pyplot as plt\n",
    "%matplotlib inline\n",
    "\n",
    "from sklearn.model_selection import StratifiedKFold\n",
    "import lightgbm as lgb"
   ]
  },
  {
   "cell_type": "markdown",
   "metadata": {},
   "source": [
    "# Load Data"
   ]
  },
  {
   "cell_type": "code",
   "execution_count": 2,
   "metadata": {
    "collapsed": true
   },
   "outputs": [],
   "source": [
    "train = pd.read_csv('train.csv')\n",
    "test = pd.read_csv('test.csv')"
   ]
  },
  {
   "cell_type": "code",
   "execution_count": 3,
   "metadata": {
    "collapsed": true
   },
   "outputs": [],
   "source": [
    "features = train.drop(['target', 'id'], axis = 1)\n",
    "targets = train.target.values"
   ]
  },
  {
   "cell_type": "markdown",
   "metadata": {},
   "source": [
    "# Define Gini's functions"
   ]
  },
  {
   "cell_type": "code",
   "execution_count": 4,
   "metadata": {
    "collapsed": true
   },
   "outputs": [],
   "source": [
    "def gini(y, pred):\n",
    "    g = np.asarray(np.c_[y, pred, np.arange(len(y)) ], dtype=np.float)\n",
    "    g = g[np.lexsort((g[:,2], -1*g[:,1]))]\n",
    "    gs = g[:,0].cumsum().sum() / g[:,0].sum()\n",
    "    gs -= (len(y) + 1) / 2.\n",
    "    return gs / len(y)\n",
    "\n",
    "def gini_lgb(preds, dtrain):\n",
    "    y = list(dtrain.get_label())\n",
    "    score = gini(y, preds) / gini(y, y)\n",
    "    return 'gini', score, True\n",
    "\n",
    "def gini_normalized(a, p):\n",
    "    return gini(a, p) / gini(a, a)\n",
    "\n",
    "\n",
    "def calcginiindex(array):\n",
    "    array = array.flatten()\n",
    "    array += 0.0000001\n",
    "    array = np.sort(array)\n",
    "    index = np.arange(1,array.shape[0]+1)\n",
    "    n = array.shape[0]\n",
    "    return ((np.sum((2*index - n - 1)*array))/(n * np.sum(array)))"
   ]
  },
  {
   "cell_type": "markdown",
   "metadata": {},
   "source": [
    "# Feature Engineering"
   ]
  },
  {
   "cell_type": "code",
   "execution_count": 5,
   "metadata": {
    "collapsed": true
   },
   "outputs": [],
   "source": [
    "unwanted = train.columns[train.columns.str.startswith('ps_calc_')]\n",
    "\n",
    "train = train.drop(unwanted, axis = 1)\n",
    "test = test.drop(unwanted, axis = 1)"
   ]
  },
  {
   "cell_type": "code",
   "execution_count": 6,
   "metadata": {
    "collapsed": true
   },
   "outputs": [],
   "source": [
    "def sum_nan(row):\n",
    "    return np.sum(np.where(row == -1, 1, 0))\n",
    "\n",
    "train['sum_nan'] = train.apply(sum_nan, axis = 1)\n",
    "train['high_nan'] = train['sum_nan'].apply(lambda x: 1 if x > 4 else 0)\n",
    "train['ps_car_13_ps_reg_03'] = train['ps_car_13'] * train['ps_reg_03']\n",
    "train['ps_reg_mult'] = train['ps_reg_01'] * train['ps_reg_02'] * train['ps_reg_03']\n",
    "train['ps_bin_sum'] = train['ps_ind_06_bin'] + train['ps_ind_07_bin'] + train['ps_ind_08_bin'] + \\\n",
    "        train['ps_ind_09_bin'] + train['ps_ind_10_bin'] + train['ps_ind_11_bin'] + \\\n",
    "        train['ps_ind_12_bin'] + train['ps_ind_13_bin'] + train['ps_ind_16_bin'] + \\\n",
    "        train['ps_ind_17_bin'] + train['ps_ind_18_bin']\n",
    "        \n",
    "test['sum_nan'] = test.apply(sum_nan, axis = 1)\n",
    "test['high_nan'] = test['sum_nan'].apply(lambda x: 1 if x > 4 else 0)\n",
    "test['ps_car_13_ps_reg_03'] = test['ps_car_13'] * test['ps_reg_03']\n",
    "test['ps_reg_mult'] = test['ps_reg_01'] * test['ps_reg_02'] * test['ps_reg_03']\n",
    "test['ps_bin_sum'] = test['ps_ind_06_bin'] + test['ps_ind_07_bin'] + test['ps_ind_08_bin'] + \\\n",
    "        test['ps_ind_09_bin'] + test['ps_ind_10_bin'] + test['ps_ind_11_bin'] + \\\n",
    "        test['ps_ind_12_bin'] + test['ps_ind_13_bin'] + test['ps_ind_16_bin'] + \\\n",
    "        test['ps_ind_17_bin'] + test['ps_ind_18_bin']"
   ]
  },
  {
   "cell_type": "code",
   "execution_count": null,
   "metadata": {
    "collapsed": true
   },
   "outputs": [],
   "source": []
  },
  {
   "cell_type": "code",
   "execution_count": null,
   "metadata": {
    "collapsed": true
   },
   "outputs": [],
   "source": []
  },
  {
   "cell_type": "markdown",
   "metadata": {},
   "source": [
    "# Data preparation"
   ]
  },
  {
   "cell_type": "code",
   "execution_count": 7,
   "metadata": {
    "collapsed": true
   },
   "outputs": [],
   "source": [
    "X = train.drop(['id', 'target'], axis = 1).values\n",
    "y = train.target.values\n",
    "\n",
    "test_id = test.id.values\n",
    "test = test.drop('id', axis = 1)"
   ]
  },
  {
   "cell_type": "code",
   "execution_count": 8,
   "metadata": {
    "collapsed": true
   },
   "outputs": [],
   "source": [
    "sub = pd.DataFrame()\n",
    "sub['id'] = test_id\n",
    "sub['target'] = np.zeros_like(test_id)"
   ]
  },
  {
   "cell_type": "markdown",
   "metadata": {},
   "source": [
    "# Stratified KFold and lightGBM params"
   ]
  },
  {
   "cell_type": "code",
   "execution_count": 19,
   "metadata": {
    "collapsed": true
   },
   "outputs": [],
   "source": [
    "kfold = 5\n",
    "skf = StratifiedKFold(n_splits=kfold, random_state=42)\n",
    "\n",
    "\n",
    "    # specify your configurations as a dict\n",
    "params = {\n",
    "    'task': 'train',\n",
    "    'boosting_type': 'gbdt',\n",
    "    'objective': 'binary',\n",
    "    'min_sum_hessian_in_leaf': 10,\n",
    "    'min_gain_to_split': 0.65,\n",
    "    'poisson_max_delta_step': 1.8,\n",
    "    'num_leaves': 31,\n",
    "    #'learning_rate': 0.025,\n",
    "    'feature_fraction': 0.9,\n",
    "    'bagging_fraction': 0.9,\n",
    "    'bagging_freq': 5,\n",
    "    'max_depth': 7,\n",
    "    'verbose': 2\n",
    "}"
   ]
  },
  {
   "cell_type": "markdown",
   "metadata": {},
   "source": [
    "# Train the model\n",
    "### Learning Rate Scheduling"
   ]
  },
  {
   "cell_type": "code",
   "execution_count": null,
   "metadata": {
    "collapsed": true
   },
   "outputs": [],
   "source": []
  },
  {
   "cell_type": "code",
   "execution_count": 20,
   "metadata": {},
   "outputs": [
    {
     "name": "stdout",
     "output_type": "stream",
     "text": [
      "[Fold 1/5]\n",
      "Start training...\n",
      "Training until validation scores don't improve for 130 rounds.\n",
      "[250]\tvalid_0's gini: 0.272521\n",
      "[500]\tvalid_0's gini: 0.281131\n",
      "[750]\tvalid_0's gini: 0.283033\n",
      "[1000]\tvalid_0's gini: 0.283536\n",
      "[1250]\tvalid_0's gini: 0.28375\n",
      "Early stopping, best iteration is:\n",
      "[1315]\tvalid_0's gini: 0.283796\n",
      "Save model...\n",
      "Start predicting...\n",
      "[Fold 2/5]\n",
      "Start training...\n",
      "Training until validation scores don't improve for 130 rounds.\n",
      "[250]\tvalid_0's gini: 0.269838\n",
      "[500]\tvalid_0's gini: 0.280572\n",
      "[750]\tvalid_0's gini: 0.282832\n",
      "[1000]\tvalid_0's gini: 0.283478\n",
      "[1250]\tvalid_0's gini: 0.283781\n",
      "[1500]\tvalid_0's gini: 0.283961\n",
      "[1750]\tvalid_0's gini: 0.284008\n",
      "[2000]\tvalid_0's gini: 0.284057\n",
      "[2250]\tvalid_0's gini: 0.284083\n",
      "Early stopping, best iteration is:\n",
      "[2336]\tvalid_0's gini: 0.284088\n",
      "Save model...\n",
      "Start predicting...\n",
      "[Fold 3/5]\n",
      "Start training...\n",
      "Training until validation scores don't improve for 130 rounds.\n",
      "[250]\tvalid_0's gini: 0.27017\n",
      "[500]\tvalid_0's gini: 0.280098\n",
      "[750]\tvalid_0's gini: 0.282542\n",
      "[1000]\tvalid_0's gini: 0.283155\n",
      "[1250]\tvalid_0's gini: 0.283293\n",
      "[1500]\tvalid_0's gini: 0.283376\n",
      "[1750]\tvalid_0's gini: 0.283445\n",
      "[2000]\tvalid_0's gini: 0.283488\n",
      "[2250]\tvalid_0's gini: 0.283501\n",
      "[2500]\tvalid_0's gini: 0.283511\n",
      "[2750]\tvalid_0's gini: 0.283515\n",
      "[3000]\tvalid_0's gini: 0.283518\n",
      "Early stopping, best iteration is:\n",
      "[3010]\tvalid_0's gini: 0.283519\n",
      "Save model...\n",
      "Start predicting...\n",
      "[Fold 4/5]\n",
      "Start training...\n",
      "Training until validation scores don't improve for 130 rounds.\n",
      "[250]\tvalid_0's gini: 0.273676\n",
      "[500]\tvalid_0's gini: 0.286038\n",
      "[750]\tvalid_0's gini: 0.288136\n",
      "[1000]\tvalid_0's gini: 0.288885\n",
      "[1250]\tvalid_0's gini: 0.289153\n",
      "[1500]\tvalid_0's gini: 0.289315\n",
      "[1750]\tvalid_0's gini: 0.289384\n",
      "[2000]\tvalid_0's gini: 0.289424\n",
      "[2250]\tvalid_0's gini: 0.289442\n",
      "[2500]\tvalid_0's gini: 0.289452\n",
      "[2750]\tvalid_0's gini: 0.28946\n",
      "[3000]\tvalid_0's gini: 0.289464\n",
      "[3250]\tvalid_0's gini: 0.289466\n",
      "[3500]\tvalid_0's gini: 0.289467\n",
      "[3750]\tvalid_0's gini: 0.289468\n",
      "[4000]\tvalid_0's gini: 0.289468\n",
      "Save model...\n",
      "Start predicting...\n",
      "[Fold 5/5]\n",
      "Start training...\n",
      "Training until validation scores don't improve for 130 rounds.\n",
      "[250]\tvalid_0's gini: 0.264671\n",
      "[500]\tvalid_0's gini: 0.273665\n",
      "[750]\tvalid_0's gini: 0.275596\n",
      "[1000]\tvalid_0's gini: 0.276358\n",
      "[1250]\tvalid_0's gini: 0.276572\n",
      "[1500]\tvalid_0's gini: 0.276659\n",
      "[1750]\tvalid_0's gini: 0.276723\n",
      "[2000]\tvalid_0's gini: 0.276751\n",
      "Early stopping, best iteration is:\n",
      "[2035]\tvalid_0's gini: 0.276761\n",
      "Save model...\n",
      "Start predicting...\n"
     ]
    }
   ],
   "source": [
    "sub['target'] = np.zeros_like(test_id)\n",
    "sum_valid_gini = 0\n",
    "\n",
    "for i, (train_index, test_index) in enumerate(skf.split(X, y)):\n",
    "    print('[Fold %d/%d]' % (i + 1, kfold))\n",
    "    X_train, X_valid = X[train_index], X[test_index]\n",
    "    y_train, y_valid = y[train_index], y[test_index]\n",
    "    X_test = test.values\n",
    "    \n",
    "    # create dataset for lightgbm\n",
    "    lgb_train = lgb.Dataset(X_train, y_train)\n",
    "    lgb_eval = lgb.Dataset(X_valid, y_valid, reference=lgb_train)\n",
    "\n",
    "    print('Start training...')\n",
    "    # train\n",
    "    gbm = lgb.train(params,\n",
    "                    lgb_train,\n",
    "                    num_boost_round=4000,\n",
    "                    valid_sets=lgb_eval,\n",
    "                    early_stopping_rounds=130,\n",
    "                    feval=gini_lgb, verbose_eval=250,\n",
    "                    learning_rates = lambda iter: 0.025 * (0.9975 ** iter)\n",
    "                    )\n",
    "\n",
    "    print('Save model...')\n",
    "    # save model to file\n",
    "    gbm.save_model('model.txt')\n",
    "\n",
    "    print('Start predicting...')\n",
    "    # predict\n",
    "    p_test = gbm.predict(X_test, num_iteration=gbm.best_iteration)\n",
    "    p_valid = gbm.predict(X_valid, num_iteration=gbm.best_iteration)\n",
    "    sub['target'] += p_test/kfold\n",
    "    sum_valid_gini += gini_normalized(y_valid, p_valid)"
   ]
  },
  {
   "cell_type": "markdown",
   "metadata": {
    "collapsed": true
   },
   "source": [
    "# Estimated Local Gini"
   ]
  },
  {
   "cell_type": "code",
   "execution_count": 21,
   "metadata": {},
   "outputs": [
    {
     "name": "stdout",
     "output_type": "stream",
     "text": [
      "('Gini: ', 0.25948887615338728)\n",
      "('Valid gini:', 0.28352626610683168)\n"
     ]
    }
   ],
   "source": [
    "print('Gini: ', calcginiindex(sub['target'].values))\n",
    "#sum_valid_gini = 0.29361 + 0.273239 + 0.291849 + 0.273031 + 0.294119 + 0.264506 + 0.292655 + 0.287502 + 0.269919 +0.283226\n",
    "print('Valid gini:', sum_valid_gini/kfold)"
   ]
  },
  {
   "cell_type": "markdown",
   "metadata": {},
   "source": [
    "# Submition file"
   ]
  },
  {
   "cell_type": "code",
   "execution_count": 12,
   "metadata": {
    "collapsed": true
   },
   "outputs": [],
   "source": [
    "sub.to_csv('skfold_lightgbm'+ str(sum_valid_gini/kfold) +'.csv', index = False)"
   ]
  },
  {
   "cell_type": "code",
   "execution_count": null,
   "metadata": {
    "collapsed": true
   },
   "outputs": [],
   "source": []
  },
  {
   "cell_type": "code",
   "execution_count": null,
   "metadata": {
    "collapsed": true
   },
   "outputs": [],
   "source": []
  },
  {
   "cell_type": "code",
   "execution_count": null,
   "metadata": {
    "collapsed": true
   },
   "outputs": [],
   "source": []
  },
  {
   "cell_type": "code",
   "execution_count": null,
   "metadata": {
    "collapsed": true
   },
   "outputs": [],
   "source": []
  }
 ],
 "metadata": {
  "kernelspec": {
   "display_name": "Python 2",
   "language": "python",
   "name": "python2"
  },
  "language_info": {
   "codemirror_mode": {
    "name": "ipython",
    "version": 2
   },
   "file_extension": ".py",
   "mimetype": "text/x-python",
   "name": "python",
   "nbconvert_exporter": "python",
   "pygments_lexer": "ipython2",
   "version": "2.7.13"
  }
 },
 "nbformat": 4,
 "nbformat_minor": 2
}
