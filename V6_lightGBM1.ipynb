{
 "cells": [
  {
   "cell_type": "markdown",
   "metadata": {},
   "source": [
    "# Imports"
   ]
  },
  {
   "cell_type": "code",
   "execution_count": 2,
   "metadata": {
    "collapsed": true
   },
   "outputs": [],
   "source": [
    "import numpy as np\n",
    "import pandas as pd\n",
    "import matplotlib.pyplot as plt\n",
    "%matplotlib inline\n",
    "\n",
    "from sklearn.model_selection import StratifiedKFold\n",
    "import lightgbm as lgb"
   ]
  },
  {
   "cell_type": "markdown",
   "metadata": {},
   "source": [
    "# Load Data"
   ]
  },
  {
   "cell_type": "code",
   "execution_count": 3,
   "metadata": {
    "collapsed": true
   },
   "outputs": [],
   "source": [
    "train = pd.read_csv('train.csv')\n",
    "test = pd.read_csv('test.csv')"
   ]
  },
  {
   "cell_type": "code",
   "execution_count": 4,
   "metadata": {
    "collapsed": true
   },
   "outputs": [],
   "source": [
    "features = train.drop(['target', 'id'], axis = 1)\n",
    "targets = train.target.values"
   ]
  },
  {
   "cell_type": "markdown",
   "metadata": {},
   "source": [
    "# Define Gini's functions"
   ]
  },
  {
   "cell_type": "code",
   "execution_count": 15,
   "metadata": {
    "collapsed": true
   },
   "outputs": [],
   "source": [
    "def gini(y, pred):\n",
    "    g = np.asarray(np.c_[y, pred, np.arange(len(y)) ], dtype=np.float)\n",
    "    g = g[np.lexsort((g[:,2], -1*g[:,1]))]\n",
    "    gs = g[:,0].cumsum().sum() / g[:,0].sum()\n",
    "    gs -= (len(y) + 1) / 2.\n",
    "    return gs / len(y)\n",
    "\n",
    "def gini_lgb(preds, dtrain):\n",
    "    y = list(dtrain.get_label())\n",
    "    score = gini(y, preds) / gini(y, y)\n",
    "    return 'gini', score, True\n",
    "\n",
    "def gini_normalized(a, p):\n",
    "    return gini(a, p) / gini(a, a)\n",
    "\n",
    "\n",
    "def calcginiindex(array):\n",
    "    array = array.flatten()\n",
    "    array += 0.0000001\n",
    "    array = np.sort(array)\n",
    "    index = np.arange(1,array.shape[0]+1)\n",
    "    n = array.shape[0]\n",
    "    return ((np.sum((2*index - n - 1)*array))/(n * np.sum(array)))"
   ]
  },
  {
   "cell_type": "markdown",
   "metadata": {},
   "source": [
    "# Feature Engineering"
   ]
  },
  {
   "cell_type": "code",
   "execution_count": 6,
   "metadata": {
    "collapsed": true
   },
   "outputs": [],
   "source": [
    "unwanted = train.columns[train.columns.str.startswith('ps_calc_')]\n",
    "\n",
    "train = train.drop(unwanted, axis = 1)\n",
    "test = test.drop(unwanted, axis = 1)"
   ]
  },
  {
   "cell_type": "code",
   "execution_count": null,
   "metadata": {
    "collapsed": true
   },
   "outputs": [],
   "source": []
  },
  {
   "cell_type": "code",
   "execution_count": null,
   "metadata": {
    "collapsed": true
   },
   "outputs": [],
   "source": []
  },
  {
   "cell_type": "code",
   "execution_count": null,
   "metadata": {
    "collapsed": true
   },
   "outputs": [],
   "source": []
  },
  {
   "cell_type": "markdown",
   "metadata": {},
   "source": [
    "# Data preparation"
   ]
  },
  {
   "cell_type": "code",
   "execution_count": 7,
   "metadata": {
    "collapsed": true
   },
   "outputs": [],
   "source": [
    "X = train.drop(['id', 'target'], axis = 1).values\n",
    "y = train.target.values\n",
    "\n",
    "test_id = test.id.values\n",
    "test = test.drop('id', axis = 1)"
   ]
  },
  {
   "cell_type": "code",
   "execution_count": 8,
   "metadata": {
    "collapsed": true
   },
   "outputs": [],
   "source": [
    "sub = pd.DataFrame()\n",
    "sub['id'] = test_id\n",
    "sub['target'] = np.zeros_like(test_id)"
   ]
  },
  {
   "cell_type": "markdown",
   "metadata": {},
   "source": [
    "# Stratified KFold and lightGBM params"
   ]
  },
  {
   "cell_type": "code",
   "execution_count": 9,
   "metadata": {},
   "outputs": [],
   "source": [
    "kfold = 5\n",
    "skf = StratifiedKFold(n_splits=kfold, random_state=42)\n",
    "\n",
    "\n",
    "    # specify your configurations as a dict\n",
    "params = {\n",
    "    'task': 'train',\n",
    "    'boosting_type': 'gbdt',\n",
    "    'objective': 'binary',\n",
    "    'min_sum_hessian_in_leaf': 10,\n",
    "    'min_gain_to_split': 0.65,\n",
    "    'poisson_max_delta_step': 0.8,\n",
    "    'num_leaves': 31,\n",
    "    #'learning_rate': 0.025,\n",
    "    'feature_fraction': 0.4,\n",
    "    'bagging_fraction': 0.8,\n",
    "    'bagging_freq': 5,\n",
    "    'max_depth': 10,\n",
    "    'verbose': 2\n",
    "}"
   ]
  },
  {
   "cell_type": "markdown",
   "metadata": {},
   "source": [
    "# Train the model\n",
    "### Learning Rate Scheduling"
   ]
  },
  {
   "cell_type": "code",
   "execution_count": null,
   "metadata": {},
   "outputs": [],
   "source": []
  },
  {
   "cell_type": "code",
   "execution_count": 16,
   "metadata": {},
   "outputs": [
    {
     "name": "stdout",
     "output_type": "stream",
     "text": [
      "[Fold 1/5]\n",
      "Start training...\n",
      "Training until validation scores don't improve for 130 rounds.\n",
      "[250]\tvalid_0's gini: 0.266366\n",
      "[500]\tvalid_0's gini: 0.276455\n",
      "[750]\tvalid_0's gini: 0.279409\n",
      "[1000]\tvalid_0's gini: 0.280615\n",
      "Early stopping, best iteration is:\n",
      "[961]\tvalid_0's gini: 0.280695\n",
      "Save model...\n",
      "Start predicting...\n",
      "[Fold 2/5]\n",
      "Start training...\n",
      "Training until validation scores don't improve for 130 rounds.\n",
      "[250]\tvalid_0's gini: 0.271944\n",
      "[500]\tvalid_0's gini: 0.280299\n",
      "[750]\tvalid_0's gini: 0.282177\n",
      "[1000]\tvalid_0's gini: 0.282997\n",
      "Early stopping, best iteration is:\n",
      "[1004]\tvalid_0's gini: 0.283013\n",
      "Save model...\n",
      "Start predicting...\n",
      "[Fold 3/5]\n",
      "Start training...\n",
      "Training until validation scores don't improve for 130 rounds.\n",
      "[250]\tvalid_0's gini: 0.267982\n",
      "[500]\tvalid_0's gini: 0.277694\n",
      "[750]\tvalid_0's gini: 0.279391\n",
      "[1000]\tvalid_0's gini: 0.279634\n",
      "Early stopping, best iteration is:\n",
      "[892]\tvalid_0's gini: 0.279711\n",
      "Save model...\n",
      "Start predicting...\n",
      "[Fold 4/5]\n",
      "Start training...\n",
      "Training until validation scores don't improve for 130 rounds.\n",
      "[250]\tvalid_0's gini: 0.273222\n",
      "[500]\tvalid_0's gini: 0.283249\n",
      "[750]\tvalid_0's gini: 0.285479\n",
      "[1000]\tvalid_0's gini: 0.286442\n",
      "[1250]\tvalid_0's gini: 0.286807\n",
      "[1500]\tvalid_0's gini: 0.287076\n",
      "[1750]\tvalid_0's gini: 0.287192\n",
      "[2000]\tvalid_0's gini: 0.287352\n",
      "Early stopping, best iteration is:\n",
      "[2015]\tvalid_0's gini: 0.287382\n",
      "Save model...\n",
      "Start predicting...\n",
      "[Fold 5/5]\n",
      "Start training...\n",
      "Training until validation scores don't improve for 130 rounds.\n",
      "[250]\tvalid_0's gini: 0.262006\n",
      "[500]\tvalid_0's gini: 0.269206\n",
      "[750]\tvalid_0's gini: 0.271865\n",
      "[1000]\tvalid_0's gini: 0.272707\n",
      "[1250]\tvalid_0's gini: 0.27295\n",
      "[1500]\tvalid_0's gini: 0.273296\n",
      "Early stopping, best iteration is:\n",
      "[1470]\tvalid_0's gini: 0.273332\n",
      "Save model...\n",
      "Start predicting...\n"
     ]
    }
   ],
   "source": [
    "sub['target'] = np.zeros_like(test_id)\n",
    "sum_valid_gini = 0\n",
    "\n",
    "for i, (train_index, test_index) in enumerate(skf.split(X, y)):\n",
    "    print('[Fold %d/%d]' % (i + 1, kfold))\n",
    "    X_train, X_valid = X[train_index], X[test_index]\n",
    "    y_train, y_valid = y[train_index], y[test_index]\n",
    "    X_test = test.values\n",
    "    \n",
    "    # create dataset for lightgbm\n",
    "    lgb_train = lgb.Dataset(X_train, y_train)\n",
    "    lgb_eval = lgb.Dataset(X_valid, y_valid, reference=lgb_train)\n",
    "\n",
    "    print('Start training...')\n",
    "    # train\n",
    "    gbm = lgb.train(params,\n",
    "                    lgb_train,\n",
    "                    num_boost_round=4000,\n",
    "                    valid_sets=lgb_eval,\n",
    "                    early_stopping_rounds=130,\n",
    "                    feval=gini_lgb, verbose_eval=250,\n",
    "                    learning_rates = lambda iter: 0.025 * (0.999 ** iter)\n",
    "                    )\n",
    "\n",
    "    print('Save model...')\n",
    "    # save model to file\n",
    "    gbm.save_model('model.txt')\n",
    "\n",
    "    print('Start predicting...')\n",
    "    # predict\n",
    "    p_test = gbm.predict(X_test, num_iteration=gbm.best_iteration)\n",
    "    p_valid = gbm.predict(X_valid, num_iteration=gbm.best_iteration)\n",
    "    sub['target'] += p_test/kfold\n",
    "    sum_valid_gini += gini_normalized(y_valid, p_valid)"
   ]
  },
  {
   "cell_type": "markdown",
   "metadata": {
    "collapsed": true
   },
   "source": [
    "# Estimated Local Gini"
   ]
  },
  {
   "cell_type": "code",
   "execution_count": 17,
   "metadata": {},
   "outputs": [
    {
     "name": "stdout",
     "output_type": "stream",
     "text": [
      "('Gini: ', 0.26466119935060028)\n",
      "('Valid gini:', 0.28080992782327074)\n"
     ]
    }
   ],
   "source": [
    "print('Gini: ', calcginiindex(sub['target'].values))\n",
    "#sum_valid_gini = 0.29361 + 0.273239 + 0.291849 + 0.273031 + 0.294119 + 0.264506 + 0.292655 + 0.287502 + 0.269919 +0.283226\n",
    "print('Valid gini:', sum_valid_gini/kfold)"
   ]
  },
  {
   "cell_type": "markdown",
   "metadata": {},
   "source": [
    "# Submition file"
   ]
  },
  {
   "cell_type": "code",
   "execution_count": null,
   "metadata": {
    "collapsed": true
   },
   "outputs": [],
   "source": [
    "sub.to_csv('skfold_lightgbm'+ str(sum_valid_gini/kfold) +'.csv', index = False)"
   ]
  },
  {
   "cell_type": "code",
   "execution_count": null,
   "metadata": {
    "collapsed": true
   },
   "outputs": [],
   "source": []
  },
  {
   "cell_type": "code",
   "execution_count": null,
   "metadata": {
    "collapsed": true
   },
   "outputs": [],
   "source": []
  },
  {
   "cell_type": "code",
   "execution_count": null,
   "metadata": {},
   "outputs": [],
   "source": []
  },
  {
   "cell_type": "code",
   "execution_count": null,
   "metadata": {
    "collapsed": true
   },
   "outputs": [],
   "source": []
  }
 ],
 "metadata": {
  "kernelspec": {
   "display_name": "Python 2",
   "language": "python",
   "name": "python2"
  },
  "language_info": {
   "codemirror_mode": {
    "name": "ipython",
    "version": 2
   },
   "file_extension": ".py",
   "mimetype": "text/x-python",
   "name": "python",
   "nbconvert_exporter": "python",
   "pygments_lexer": "ipython2",
   "version": "2.7.13"
  }
 },
 "nbformat": 4,
 "nbformat_minor": 2
}
